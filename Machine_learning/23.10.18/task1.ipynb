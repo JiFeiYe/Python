{
 "cells": [
  {
   "cell_type": "code",
   "execution_count": null,
   "metadata": {},
   "outputs": [],
   "source": [
    "from sklearn import svm, datasets \n",
    "from sklearn.model_selection import GridSearchCV\n",
    "iris=datasets.load_iris()\n",
    "parameters= {'kernel':('linear', 'rbf'), 'C':[1, 10]}\n",
    "svc = svm.SVC()\n",
    "clf= GridSearchCV(svc, parameters)\n",
    "clf.fit(iris.data, iris.target)\n",
    "GridSearchCV(estimator=SVC(), param_grid={'C': [1, 10],'kernel': ('linear', 'rbf')})\n",
    "sorted(clf.cv_results_.keys())"
   ]
  }
 ],
 "metadata": {
  "kernelspec": {
   "display_name": "base",
   "language": "python",
   "name": "python3"
  },
  "language_info": {
   "name": "python",
   "version": "3.11.4"
  }
 },
 "nbformat": 4,
 "nbformat_minor": 2
}
