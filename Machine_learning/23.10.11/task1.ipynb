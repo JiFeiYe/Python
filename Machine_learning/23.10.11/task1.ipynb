{
 "cells": [
  {
   "cell_type": "code",
   "execution_count": 1,
   "metadata": {},
   "outputs": [],
   "source": [
    "# 随机生成样本数据。二分类问题，每一个类别生成5000个样本数据\n",
    "import numpy as np\n",
    "\n",
    "np.random.seed(12)\n",
    "num_observations = 100  # 生成正负样本各100个\n",
    "# 利用高斯分布来生成样本，首先需要生成covariance matrix\n",
    "# 由于假设我们生成20维的特征向量，所以矩阵大小为20*20\n",
    "rand_m = np.random.rand(20, 20)\n",
    "# 保证矩阵为PSD矩阵（半正定）\n",
    "cov = np.matmul(rand_m.T, rand_m)\n",
    "# 通过高斯分布生成样本\n",
    "x1 = np.random.multivariate_normal(np.random.rand(20), cov, num_observations)\n",
    "x2 = np.random.multivariate_normal(np.random.rand(20) + 5, cov, num_observations)\n",
    "X = np.vstack((x1, x2)).astype(np.float32)\n",
    "y = np.hstack((np.zeros(num_observations), np.ones(num_observations)))"
   ]
  },
  {
   "cell_type": "markdown",
   "metadata": {},
   "source": [
    "C(正则化强度)为0.1时："
   ]
  },
  {
   "cell_type": "code",
   "execution_count": 4,
   "metadata": {},
   "outputs": [
    {
     "name": "stdout",
     "output_type": "stream",
     "text": [
      "(L1）逻辑回归的参数w为： [[ 0.          0.          0.00361467  0.          0.0718302  -0.29521729\n",
      "   0.         -0.34050756  0.          0.78460694  0.          0.10001426\n",
      "   0.          0.          0.         -0.04130562  0.          0.\n",
      "   0.41622993  0.        ]]\n",
      "[-1.57816558]\n",
      "(L2）逻辑回归的参数w为： [[-0.06020774 -0.08587293  0.06269959  0.0218838   0.36622515 -0.45899841\n",
      "   0.11456309 -0.44218794 -0.24780618  0.87767764 -0.32403048  0.27800343\n",
      "   0.34313572  0.16393398 -0.14322159 -0.22759078  0.09331433 -0.22950935\n",
      "   0.48553032  0.1213868 ]]\n",
      "[-1.02742097]\n"
     ]
    }
   ],
   "source": [
    "from sklearn.linear_model import LogisticRegression\n",
    "\n",
    "# TODO 使用L1正则。设C数值为0.1。添加常数偏置项b。优化算法使用liblinear\n",
    "clf = LogisticRegression(penalty=\"l1\", C=0.1, solver=\"liblinear\")\n",
    "clf.fit(X, y)\n",
    "print(\"(L1）逻辑回归的参数w为：\", clf.coef_)\n",
    "print(clf.intercept_)\n",
    "# TODO使用L2正则。设C数值为0.1。添加常数偏置项b。优化算法使用liblinear\n",
    "clf = LogisticRegression(penalty=\"l2\", C=0.1, solver=\"liblinear\")\n",
    "clf.fit(X, y)\n",
    "print(\"(L2）逻辑回归的参数w为：\", clf.coef_)\n",
    "print(clf.intercept_)"
   ]
  },
  {
   "cell_type": "markdown",
   "metadata": {},
   "source": [
    "C(正则化强度)为1时："
   ]
  },
  {
   "cell_type": "code",
   "execution_count": 5,
   "metadata": {},
   "outputs": [
    {
     "name": "stdout",
     "output_type": "stream",
     "text": [
      "(L1）逻辑回归的参数w为： [[-0.30440836  0.          0.25241348  0.07565867  0.5102762  -0.80928359\n",
      "   0.         -0.88818937  0.          1.72477163 -0.10109167  0.\n",
      "   0.03337765  0.          0.         -0.05826908  0.          0.\n",
      "   0.99894448  0.        ]]\n",
      "[-4.1870595]\n",
      "(L2）逻辑回归的参数w为： [[-0.20194201 -0.20020186  0.13773651  0.15579833  0.79907475 -0.86198968\n",
      "   0.03762217 -0.86381303 -0.41934381  1.55399903 -0.59299653  0.3127151\n",
      "   0.61708167  0.40605477 -0.23690592 -0.36027922  0.15136609 -0.38079605\n",
      "   0.87445383  0.2852808 ]]\n",
      "[-2.33861249]\n"
     ]
    }
   ],
   "source": [
    "from sklearn.linear_model import LogisticRegression\n",
    "\n",
    "# TODO 使用L1正则。设C数值为0.1。添加常数偏置项b。优化算法使用liblinear\n",
    "clf = LogisticRegression(penalty=\"l1\", C=1, solver=\"liblinear\")\n",
    "clf.fit(X, y)\n",
    "print(\"(L1）逻辑回归的参数w为：\", clf.coef_)\n",
    "print(clf.intercept_)\n",
    "# TODO使用L2正则。设C数值为0.1。添加常数偏置项b。优化算法使用liblinear\n",
    "clf = LogisticRegression(penalty=\"l2\", C=1, solver=\"liblinear\")\n",
    "clf.fit(X, y)\n",
    "print(\"(L2）逻辑回归的参数w为：\", clf.coef_)\n",
    "print(clf.intercept_)"
   ]
  }
 ],
 "metadata": {
  "kernelspec": {
   "display_name": "base",
   "language": "python",
   "name": "python3"
  },
  "language_info": {
   "codemirror_mode": {
    "name": "ipython",
    "version": 3
   },
   "file_extension": ".py",
   "mimetype": "text/x-python",
   "name": "python",
   "nbconvert_exporter": "python",
   "pygments_lexer": "ipython3",
   "version": "3.11.4"
  }
 },
 "nbformat": 4,
 "nbformat_minor": 2
}
