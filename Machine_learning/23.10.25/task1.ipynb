{
 "cells": [
  {
   "cell_type": "code",
   "execution_count": 1,
   "metadata": {},
   "outputs": [
    {
     "name": "stdout",
     "output_type": "stream",
     "text": [
      "# of ham:  4825 # of spam:  747\n",
      "# of total samples:  5572\n"
     ]
    },
    {
     "data": {
      "image/png": "[encoded data removed]",
      "text/plain": [
       "<Figure size 640x480 with 1 Axes>"
      ]
     },
     "metadata": {},
     "output_type": "display_data"
    }
   ],
   "source": [
    "import pandas as pd\n",
    "import numpy as np\n",
    "# import matgletlib.alab as mlap\n",
    "import matplotlib.pyplot as plt\n",
    "\n",
    "# 读取spam.csv文件\n",
    "df = pd.read_csv(\n",
    "    \"D:/CODE/Python/Machine_learning/23.10.25/spam.csv\",\n",
    "    encoding=\"latin\",\n",
    ")\n",
    "df.head()\n",
    "# 重命名数据中的V1和v2列，使得拥有很好的可读性\n",
    "df.rename(columns={\"v1\": \"Label\", \"v2\": \"Text\"}, inplace=True)\n",
    "df.head()\n",
    "# 把'ham'和'spam'标签重命名为数字8和1\n",
    "df[\"numLabel\"] = df[\"Label\"].map({\"ham\": 0, \"spam\": 1})\n",
    "df.head()\n",
    "# 统计有多少个ham，有多少个spam\n",
    "print(\"# of ham: \", len(df[df.numLabel == 0]), \"# of spam: \", len(df[df.numLabel == 1]))\n",
    "print(\"# of total samples: \", len(df))\n",
    "# 统计文本的长度信息，并画出一个histogrom\n",
    "text_lengths = [len(df.loc[i, \"Text\"]) for i in range(len(df))]\n",
    "plt.hist(text_lengths, 100, facecolor=\"blue\", alpha=0.5)\n",
    "plt.xlim([0, 200])\n",
    "plt.show()"
   ]
  },
  {
   "cell_type": "code",
   "execution_count": 2,
   "metadata": {},
   "outputs": [
    {
     "name": "stdout",
     "output_type": "stream",
     "text": [
      "训练数据中的样本个数： 4457 测试数据中的样本个数： 1115\n",
      "accuracy on test data:  0.97847533632287\n"
     ]
    }
   ],
   "source": [
    "# 导入英文的停用词库\n",
    "from sklearn.feature_extraction.text import CountVectorizer\n",
    "\n",
    "# 构建文本的向量（基于词频的表示）\n",
    "vectorizer = CountVectorizer()\n",
    "X = vectorizer.fit_transform(df.Text)\n",
    "y = df.numLabel\n",
    "\n",
    "from sklearn.model_selection import train_test_split\n",
    "\n",
    "# TOD01．请把数据分成训练数据和测试数据，test_size设置为0.20，random_state设置为100\n",
    "X_train, X_test, y_train, y_test = train_test_split(X, y, test_size=0.2, random_state=100)\n",
    "\n",
    "print(\"训练数据中的样本个数：\", X_train.shape[0], \"测试数据中的样本个数：\", X_test.shape[0])\n",
    "# 利用朴素贝叶斯做训练\n",
    "from sklearn.naive_bayes import MultinomialNB\n",
    "from sklearn.metrics import accuracy_score\n",
    "\n",
    "# TOD02．生成一个朴素贝叶斯分类器cLf,alpha设置为1.0,fit_prior设置为True\n",
    "clf = MultinomialNB(alpha=1.0, fit_prior=True)\n",
    "clf.fit(X_train, y_train)\n",
    "y_pred = clf.predict(X_test)\n",
    "print(\"accuracy on test data: \", accuracy_score(y_test, y_pred))"
   ]
  }
 ],
 "metadata": {
  "kernelspec": {
   "display_name": "base",
   "language": "python",
   "name": "python3"
  },
  "language_info": {
   "codemirror_mode": {
    "name": "ipython",
    "version": 3
   },
   "file_extension": ".py",
   "mimetype": "text/x-python",
   "name": "python",
   "nbconvert_exporter": "python",
   "pygments_lexer": "ipython3",
   "version": "3.11.4"
  }
 },
 "nbformat": 4,
 "nbformat_minor": 2
}
